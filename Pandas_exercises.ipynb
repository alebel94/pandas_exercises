{
 "cells": [
  {
   "cell_type": "markdown",
   "metadata": {},
   "source": [
    "# Pandas exercises -Alejandro Beltran"
   ]
  },
  {
   "cell_type": "markdown",
   "metadata": {},
   "source": [
    "### Homework Excersise #1 - Find the Mean for the Red Sox <br>\n",
    "<p>Get total number of home runs and rbi's</p>"
   ]
  },
  {
   "cell_type": "code",
   "execution_count": 108,
   "metadata": {
    "scrolled": true
   },
   "outputs": [
    {
     "name": "stdout",
     "output_type": "stream",
     "text": [
      "2017 Boston Red Sox: \n",
      "       HR  RBI\n",
      "TEAM         \n",
      "BOS   23   23\n",
      "\n",
      "\n",
      "2018 Boston Red Sox: \n",
      "       HR  RBI\n",
      "TEAM         \n",
      "BOS   20   20\n"
     ]
    }
   ],
   "source": [
    "# step 1: Add a new column with the key 'Team' and all column values should be 'BOS'\n",
    "\n",
    "# step 2: Group by the 'Team' column and get total home runs and rbi's\n",
    "\n",
    "# Produce data for both 2017 and 2018\n",
    "\n",
    "\"\"\"\n",
    "TEAM    HR   RBI\n",
    "----------------\n",
    "BOS     144  538\n",
    "\"\"\"\n",
    "import numpy as np\n",
    "import pandas as pd\n",
    "\n",
    "bos17 = pd.read_csv('../../files/redsox_2017_hitting.txt', sep = ',')\n",
    "bos17['TEAM'] = 'BOS'\n",
    "new_bos17 = bos17.groupby('TEAM').count()\n",
    "print('2017 Boston Red Sox: \\n',new_bos17[['HR','RBI']])\n",
    "\n",
    "print('\\n')\n",
    "\n",
    "bos18 = pd.read_csv('../../files/redsox_2018_hitting.txt', sep = ',')\n",
    "bos18['TEAM'] = 'BOS'\n",
    "new_bos18 = bos18.groupby('TEAM').count()\n",
    "print('2018 Boston Red Sox: \\n',new_bos18[['HR','RBI']])"
   ]
  },
  {
   "cell_type": "markdown",
   "metadata": {},
   "source": [
    "## Find the average age of runners in the 2017 Boston Marathon"
   ]
  },
  {
   "cell_type": "code",
   "execution_count": 109,
   "metadata": {},
   "outputs": [
    {
     "name": "stdout",
     "output_type": "stream",
     "text": [
      "42.587731919727375\n"
     ]
    }
   ],
   "source": [
    "marathon = pd.read_csv('../../files/boston_marathon2017_edited.csv', sep = ',')\n",
    "marathon_by_age = marathon.mean()['Age']\n",
    "print(marathon_by_age)"
   ]
  }
 ],
 "metadata": {
  "kernelspec": {
   "display_name": "Python 3",
   "language": "python",
   "name": "python3"
  },
  "language_info": {
   "codemirror_mode": {
    "name": "ipython",
    "version": 3
   },
   "file_extension": ".py",
   "mimetype": "text/x-python",
   "name": "python",
   "nbconvert_exporter": "python",
   "pygments_lexer": "ipython3",
   "version": "3.8.5"
  }
 },
 "nbformat": 4,
 "nbformat_minor": 2
}
